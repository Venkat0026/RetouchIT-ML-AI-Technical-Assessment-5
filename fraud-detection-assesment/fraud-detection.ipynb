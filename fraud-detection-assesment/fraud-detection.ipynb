{
 "cells": [
  {
   "cell_type": "code",
   "execution_count": 1,
   "id": "5e29dcde-18f5-4be6-b2b0-d7010fd2e010",
   "metadata": {},
   "outputs": [
    {
     "ename": "ModuleNotFoundError",
     "evalue": "No module named 'xgboost'",
     "output_type": "error",
     "traceback": [
      "\u001b[1;31m---------------------------------------------------------------------------\u001b[0m",
      "\u001b[1;31mModuleNotFoundError\u001b[0m                       Traceback (most recent call last)",
      "Cell \u001b[1;32mIn[1], line 7\u001b[0m\n\u001b[0;32m      5\u001b[0m \u001b[38;5;28;01mfrom\u001b[39;00m\u001b[38;5;250m \u001b[39m\u001b[38;5;21;01msklearn\u001b[39;00m\u001b[38;5;21;01m.\u001b[39;00m\u001b[38;5;21;01mlinear_model\u001b[39;00m\u001b[38;5;250m \u001b[39m\u001b[38;5;28;01mimport\u001b[39;00m LogisticRegression\n\u001b[0;32m      6\u001b[0m \u001b[38;5;28;01mfrom\u001b[39;00m\u001b[38;5;250m \u001b[39m\u001b[38;5;21;01msklearn\u001b[39;00m\u001b[38;5;21;01m.\u001b[39;00m\u001b[38;5;21;01mensemble\u001b[39;00m\u001b[38;5;250m \u001b[39m\u001b[38;5;28;01mimport\u001b[39;00m RandomForestClassifier\n\u001b[1;32m----> 7\u001b[0m \u001b[38;5;28;01mfrom\u001b[39;00m\u001b[38;5;250m \u001b[39m\u001b[38;5;21;01mxgboost\u001b[39;00m\u001b[38;5;250m \u001b[39m\u001b[38;5;28;01mimport\u001b[39;00m XGBClassifier\n\u001b[0;32m      8\u001b[0m \u001b[38;5;28;01mfrom\u001b[39;00m\u001b[38;5;250m \u001b[39m\u001b[38;5;21;01msklearn\u001b[39;00m\u001b[38;5;21;01m.\u001b[39;00m\u001b[38;5;21;01mmetrics\u001b[39;00m\u001b[38;5;250m \u001b[39m\u001b[38;5;28;01mimport\u001b[39;00m precision_recall_curve, average_precision_score\n\u001b[0;32m      9\u001b[0m \u001b[38;5;28;01mimport\u001b[39;00m\u001b[38;5;250m \u001b[39m\u001b[38;5;21;01mmatplotlib\u001b[39;00m\u001b[38;5;21;01m.\u001b[39;00m\u001b[38;5;21;01mpyplot\u001b[39;00m\u001b[38;5;250m \u001b[39m\u001b[38;5;28;01mas\u001b[39;00m\u001b[38;5;250m \u001b[39m\u001b[38;5;21;01mplt\u001b[39;00m\n",
      "\u001b[1;31mModuleNotFoundError\u001b[0m: No module named 'xgboost'"
     ]
    }
   ],
   "source": [
    "import pandas as pd\n",
    "import numpy as np\n",
    "from sklearn.model_selection import train_test_split, GridSearchCV\n",
    "from sklearn.preprocessing import LabelEncoder, StandardScaler\n",
    "from sklearn.linear_model import LogisticRegression\n",
    "from sklearn.ensemble import RandomForestClassifier\n",
    "from xgboost import XGBClassifier\n",
    "from sklearn.metrics import precision_recall_curve, average_precision_score\n",
    "import matplotlib.pyplot as plt\n",
    "import joblib\n"
   ]
  },
  {
   "cell_type": "code",
   "execution_count": null,
   "id": "568834d0-b52d-46a0-843e-745e64b59da0",
   "metadata": {},
   "outputs": [
    {
     "name": "stdout",
     "output_type": "stream",
     "text": [
      "shape: (3000, 8) | fraud count: 50\n"
     ]
    },
    {
     "data": {
      "text/html": [
       "<div>\n",
       "<style scoped>\n",
       "    .dataframe tbody tr th:only-of-type {\n",
       "        vertical-align: middle;\n",
       "    }\n",
       "\n",
       "    .dataframe tbody tr th {\n",
       "        vertical-align: top;\n",
       "    }\n",
       "\n",
       "    .dataframe thead th {\n",
       "        text-align: right;\n",
       "    }\n",
       "</style>\n",
       "<table border=\"1\" class=\"dataframe\">\n",
       "  <thead>\n",
       "    <tr style=\"text-align: right;\">\n",
       "      <th></th>\n",
       "      <th>step</th>\n",
       "      <th>type</th>\n",
       "      <th>amount</th>\n",
       "      <th>oldbalanceOrg</th>\n",
       "      <th>newbalanceOrig</th>\n",
       "      <th>oldbalanceDest</th>\n",
       "      <th>newbalanceDest</th>\n",
       "      <th>isFraud</th>\n",
       "    </tr>\n",
       "  </thead>\n",
       "  <tbody>\n",
       "    <tr>\n",
       "      <th>0</th>\n",
       "      <td>310</td>\n",
       "      <td>PAYMENT</td>\n",
       "      <td>6939.98</td>\n",
       "      <td>0.00</td>\n",
       "      <td>0.00</td>\n",
       "      <td>0.00</td>\n",
       "      <td>0.00</td>\n",
       "      <td>0</td>\n",
       "    </tr>\n",
       "    <tr>\n",
       "      <th>1</th>\n",
       "      <td>347</td>\n",
       "      <td>CASH_IN</td>\n",
       "      <td>113362.94</td>\n",
       "      <td>24587.00</td>\n",
       "      <td>137949.94</td>\n",
       "      <td>3247086.97</td>\n",
       "      <td>3187523.77</td>\n",
       "      <td>0</td>\n",
       "    </tr>\n",
       "    <tr>\n",
       "      <th>2</th>\n",
       "      <td>250</td>\n",
       "      <td>CASH_IN</td>\n",
       "      <td>407359.73</td>\n",
       "      <td>1692102.35</td>\n",
       "      <td>2099462.08</td>\n",
       "      <td>1529631.96</td>\n",
       "      <td>1122272.22</td>\n",
       "      <td>0</td>\n",
       "    </tr>\n",
       "    <tr>\n",
       "      <th>3</th>\n",
       "      <td>153</td>\n",
       "      <td>CASH_OUT</td>\n",
       "      <td>203911.81</td>\n",
       "      <td>0.00</td>\n",
       "      <td>0.00</td>\n",
       "      <td>410894.10</td>\n",
       "      <td>614805.92</td>\n",
       "      <td>0</td>\n",
       "    </tr>\n",
       "    <tr>\n",
       "      <th>4</th>\n",
       "      <td>278</td>\n",
       "      <td>CASH_OUT</td>\n",
       "      <td>287571.79</td>\n",
       "      <td>29878.00</td>\n",
       "      <td>0.00</td>\n",
       "      <td>385445.52</td>\n",
       "      <td>673017.31</td>\n",
       "      <td>0</td>\n",
       "    </tr>\n",
       "    <tr>\n",
       "      <th>5</th>\n",
       "      <td>545</td>\n",
       "      <td>PAYMENT</td>\n",
       "      <td>2927.48</td>\n",
       "      <td>0.00</td>\n",
       "      <td>0.00</td>\n",
       "      <td>0.00</td>\n",
       "      <td>0.00</td>\n",
       "      <td>0</td>\n",
       "    </tr>\n",
       "    <tr>\n",
       "      <th>6</th>\n",
       "      <td>163</td>\n",
       "      <td>CASH_OUT</td>\n",
       "      <td>711438.39</td>\n",
       "      <td>0.00</td>\n",
       "      <td>0.00</td>\n",
       "      <td>6991993.36</td>\n",
       "      <td>7703431.75</td>\n",
       "      <td>0</td>\n",
       "    </tr>\n",
       "    <tr>\n",
       "      <th>7</th>\n",
       "      <td>160</td>\n",
       "      <td>CASH_OUT</td>\n",
       "      <td>200330.14</td>\n",
       "      <td>387.00</td>\n",
       "      <td>0.00</td>\n",
       "      <td>3079166.74</td>\n",
       "      <td>3321302.80</td>\n",
       "      <td>0</td>\n",
       "    </tr>\n",
       "    <tr>\n",
       "      <th>8</th>\n",
       "      <td>185</td>\n",
       "      <td>CASH_OUT</td>\n",
       "      <td>20665.94</td>\n",
       "      <td>0.00</td>\n",
       "      <td>0.00</td>\n",
       "      <td>1010257.27</td>\n",
       "      <td>1030923.22</td>\n",
       "      <td>0</td>\n",
       "    </tr>\n",
       "    <tr>\n",
       "      <th>9</th>\n",
       "      <td>211</td>\n",
       "      <td>PAYMENT</td>\n",
       "      <td>11767.19</td>\n",
       "      <td>336245.12</td>\n",
       "      <td>324477.93</td>\n",
       "      <td>0.00</td>\n",
       "      <td>0.00</td>\n",
       "      <td>0</td>\n",
       "    </tr>\n",
       "  </tbody>\n",
       "</table>\n",
       "</div>"
      ],
      "text/plain": [
       "   step      type     amount  oldbalanceOrg  newbalanceOrig  oldbalanceDest  \\\n",
       "0   310   PAYMENT    6939.98           0.00            0.00            0.00   \n",
       "1   347   CASH_IN  113362.94       24587.00       137949.94      3247086.97   \n",
       "2   250   CASH_IN  407359.73     1692102.35      2099462.08      1529631.96   \n",
       "3   153  CASH_OUT  203911.81           0.00            0.00       410894.10   \n",
       "4   278  CASH_OUT  287571.79       29878.00            0.00       385445.52   \n",
       "5   545   PAYMENT    2927.48           0.00            0.00            0.00   \n",
       "6   163  CASH_OUT  711438.39           0.00            0.00      6991993.36   \n",
       "7   160  CASH_OUT  200330.14         387.00            0.00      3079166.74   \n",
       "8   185  CASH_OUT   20665.94           0.00            0.00      1010257.27   \n",
       "9   211   PAYMENT   11767.19      336245.12       324477.93            0.00   \n",
       "\n",
       "   newbalanceDest  isFraud  \n",
       "0            0.00        0  \n",
       "1      3187523.77        0  \n",
       "2      1122272.22        0  \n",
       "3       614805.92        0  \n",
       "4       673017.31        0  \n",
       "5            0.00        0  \n",
       "6      7703431.75        0  \n",
       "7      3321302.80        0  \n",
       "8      1030923.22        0  \n",
       "9            0.00        0  "
      ]
     },
     "metadata": {},
     "output_type": "display_data"
    },
    {
     "data": {
      "text/html": [
       "<div>\n",
       "<style scoped>\n",
       "    .dataframe tbody tr th:only-of-type {\n",
       "        vertical-align: middle;\n",
       "    }\n",
       "\n",
       "    .dataframe tbody tr th {\n",
       "        vertical-align: top;\n",
       "    }\n",
       "\n",
       "    .dataframe thead th {\n",
       "        text-align: right;\n",
       "    }\n",
       "</style>\n",
       "<table border=\"1\" class=\"dataframe\">\n",
       "  <thead>\n",
       "    <tr style=\"text-align: right;\">\n",
       "      <th></th>\n",
       "      <th>isFraud</th>\n",
       "      <th>Count</th>\n",
       "    </tr>\n",
       "  </thead>\n",
       "  <tbody>\n",
       "    <tr>\n",
       "      <th>0</th>\n",
       "      <td>0</td>\n",
       "      <td>2950</td>\n",
       "    </tr>\n",
       "    <tr>\n",
       "      <th>1</th>\n",
       "      <td>1</td>\n",
       "      <td>50</td>\n",
       "    </tr>\n",
       "  </tbody>\n",
       "</table>\n",
       "</div>"
      ],
      "text/plain": [
       "   isFraud  Count\n",
       "0        0   2950\n",
       "1        1     50"
      ]
     },
     "metadata": {},
     "output_type": "display_data"
    }
   ],
   "source": [
    "\n",
    "df_full = pd.read_csv(\"PS_20174392719_1491204439457_log.csv\")\n",
    "df_full = df_full.drop(columns=[\"isFlaggedFraud\", \"nameOrig\", \"nameDest\"])\n",
    "\n",
    "fraud = df_full[df_full.isFraud == 1].sample(n=min(50, len(df_full[df_full.isFraud == 1])), random_state=42)\n",
    "nonf = df_full[df_full.isFraud == 0].sample(n=3000 - len(fraud), random_state=42)\n",
    "\n",
    "df = pd.concat([fraud, nonf]).sample(frac=1, random_state=123).reset_index(drop=True)\n",
    "\n",
    "print(\"shape:\", df.shape, \"| fraud count:\", int(df.isFraud.sum()))\n",
    "display(df.head(10))\n",
    "\n",
    "class_balance = df.isFraud.value_counts().sort_index().rename_axis('isFraud').reset_index(name='Count')\n",
    "display(class_balance)\n"
   ]
  },
  {
   "cell_type": "code",
   "execution_count": null,
   "id": "ea8c4b9c-15f6-4703-8871-899d620559c1",
   "metadata": {},
   "outputs": [
    {
     "name": "stdout",
     "output_type": "stream",
     "text": [
      "step              0\n",
      "type              0\n",
      "amount            0\n",
      "oldbalanceOrg     0\n",
      "newbalanceOrig    0\n",
      "oldbalanceDest    0\n",
      "newbalanceDest    0\n",
      "isFraud           0\n",
      "dtype: int64\n"
     ]
    }
   ],
   "source": [
    "# 3a. Check for missing values\n",
    "print(df.isnull().sum())\n",
    "\n",
    "# 3b. Drop missing values if any\n",
    "df = df.dropna()\n",
    "\n",
    "# 3c. Encode categorical variables\n",
    "for col in df.select_dtypes(include='object').columns:\n",
    "    df[col] = LabelEncoder().fit_transform(df[col])\n",
    "\n",
    "# 3d. Scale features\n",
    "feature_cols = [col for col in df.columns if col not in ['isFraud', 'nameOrig', 'nameDest']]\n",
    "scaler = StandardScaler()\n",
    "df[feature_cols] = scaler.fit_transform(df[feature_cols])\n"
   ]
  },
  {
   "cell_type": "code",
   "execution_count": null,
   "id": "e4d91121-dd2d-4875-a10f-d87f0336be6d",
   "metadata": {},
   "outputs": [],
   "source": [
    "X = df[feature_cols]\n",
    "y = df['isFraud']\n",
    "\n",
    "X_train, X_test, y_train, y_test = train_test_split(\n",
    "    X, y, test_size=0.2, stratify=y, random_state=42)\n"
   ]
  },
  {
   "cell_type": "code",
   "execution_count": null,
   "id": "2284a2f8-10d3-4f3a-bd21-1d46dd82d9db",
   "metadata": {},
   "outputs": [],
   "source": [
    "from sklearn.linear_model import LogisticRegression\n",
    "\n",
    "lr = LogisticRegression(class_weight='balanced', max_iter=1000)\n",
    "param_grid_lr = {'C': [0.01, 0.1, 1, 10]}\n"
   ]
  },
  {
   "cell_type": "code",
   "execution_count": null,
   "id": "f19276cb-d02b-4fea-95bf-f3c1d5701610",
   "metadata": {},
   "outputs": [],
   "source": [
    "from sklearn.ensemble import RandomForestClassifier\n",
    "\n",
    "rf = RandomForestClassifier(class_weight='balanced', n_jobs=-1, random_state=42)\n",
    "param_grid_rf = {'n_estimators': [100, 200], 'max_depth': [8, 16]}\n"
   ]
  },
  {
   "cell_type": "code",
   "execution_count": null,
   "id": "d960465c-1e39-43af-9d21-001185a525d7",
   "metadata": {},
   "outputs": [],
   "source": [
    "from xgboost import XGBClassifier\n",
    "\n",
    "scale_pos_weight = (y_train == 0).sum() / (y_train == 1).sum()\n",
    "\n",
    "xgb = XGBClassifier(scale_pos_weight=scale_pos_weight, tree_method='hist',\n",
    "                    use_label_encoder=False, eval_metric='logloss', random_state=42)\n",
    "param_grid_xgb = {'n_estimators': [100, 200], 'max_depth': [6, 12]}\n"
   ]
  },
  {
   "cell_type": "code",
   "execution_count": null,
   "id": "a838e5bb-86e5-4d38-b800-ee5ee2d690b1",
   "metadata": {},
   "outputs": [],
   "source": [
    "def grid_search(model, param_grid):\n",
    "    gs = GridSearchCV(model, param_grid, scoring='average_precision', cv=3,\n",
    "                      verbose=2, n_jobs=-1)\n",
    "    gs.fit(X_train, y_train)\n",
    "    print(f\"Best score: {gs.best_score_}\")\n",
    "    print(f\"Best params: {gs.best_params_}\")\n",
    "    return gs\n"
   ]
  },
  {
   "cell_type": "code",
   "execution_count": null,
   "id": "b423d91a-294d-47ba-80df-9c37373fdce5",
   "metadata": {},
   "outputs": [
    {
     "name": "stdout",
     "output_type": "stream",
     "text": [
      "Tuning Logistic Regression...\n",
      "Fitting 3 folds for each of 4 candidates, totalling 12 fits\n",
      "Best score: 0.6844387101075312\n",
      "Best params: {'C': 10}\n",
      "Tuning Random Forest...\n",
      "Fitting 3 folds for each of 4 candidates, totalling 12 fits\n",
      "Best score: 0.9038336555744358\n",
      "Best params: {'max_depth': 16, 'n_estimators': 200}\n",
      "Tuning XGBoost...\n",
      "Fitting 3 folds for each of 4 candidates, totalling 12 fits\n",
      "Best score: 0.8541573772327125\n",
      "Best params: {'max_depth': 12, 'n_estimators': 100}\n"
     ]
    },
    {
     "name": "stderr",
     "output_type": "stream",
     "text": [
      "C:\\Users\\User\\miniconda3\\Lib\\site-packages\\xgboost\\training.py:183: UserWarning: [23:37:37] WARNING: C:\\actions-runner\\_work\\xgboost\\xgboost\\src\\learner.cc:738: \n",
      "Parameters: { \"use_label_encoder\" } are not used.\n",
      "\n",
      "  bst.update(dtrain, iteration=i, fobj=obj)\n"
     ]
    }
   ],
   "source": [
    "print(\"Tuning Logistic Regression...\")\n",
    "gs_lr = grid_search(lr, param_grid_lr)\n",
    "\n",
    "print(\"Tuning Random Forest...\")\n",
    "gs_rf = grid_search(rf, param_grid_rf)\n",
    "\n",
    "print(\"Tuning XGBoost...\")\n",
    "gs_xgb = grid_search(xgb, param_grid_xgb)\n"
   ]
  },
  {
   "cell_type": "code",
   "execution_count": null,
   "id": "d7414925-65f3-4e4e-a334-dd1a6dcc5f60",
   "metadata": {},
   "outputs": [
    {
     "data": {
      "image/png": "[encoded data removed]",
      "text/plain": [
       "<Figure size 1000x700 with 1 Axes>"
      ]
     },
     "metadata": {},
     "output_type": "display_data"
    }
   ],
   "source": [
    "def plot_pr_curve(model, X_test, y_test, label):\n",
    "    y_scores = model.predict_proba(X_test)[:, 1]\n",
    "    precision, recall, _ = precision_recall_curve(y_test, y_scores)\n",
    "    ap = average_precision_score(y_test, y_scores)\n",
    "    plt.plot(recall, precision, label=f'{label} (AP={ap:.3f})')\n",
    "    return ap\n",
    "\n",
    "plt.figure(figsize=(10, 7))\n",
    "ap_lr = plot_pr_curve(gs_lr.best_estimator_, X_test, y_test, \"Logistic Regression\")\n",
    "ap_rf = plot_pr_curve(gs_rf.best_estimator_, X_test, y_test, \"Random Forest\")\n",
    "ap_xgb = plot_pr_curve(gs_xgb.best_estimator_, X_test, y_test, \"XGBoost\")\n",
    "\n",
    "plt.xlabel(\"Recall\")\n",
    "plt.ylabel(\"Precision\")\n",
    "plt.title(\"Precision-Recall Curve Comparison\")\n",
    "plt.legend()\n",
    "plt.show()\n"
   ]
  },
  {
   "cell_type": "code",
   "execution_count": null,
   "id": "f064e001-0087-4226-8861-18086834c98b",
   "metadata": {},
   "outputs": [
    {
     "name": "stdout",
     "output_type": "stream",
     "text": [
      "Best model saved as 'best_fraud_detection_model.pkl'\n"
     ]
    }
   ],
   "source": [
    "# Assuming XGBoost has the best average precision score\n",
    "best_model = gs_xgb.best_estimator_\n",
    "joblib.dump(best_model, 'best_fraud_detection_model.pkl')\n",
    "print(\"Best model saved as 'best_fraud_detection_model.pkl'\")\n"
   ]
  },
  {
   "cell_type": "code",
   "execution_count": null,
   "id": "0f4e0911",
   "metadata": {},
   "outputs": [],
   "source": []
  }
 ],
 "metadata": {
  "kernelspec": {
   "display_name": "base",
   "language": "python",
   "name": "python3"
  },
  "language_info": {
   "codemirror_mode": {
    "name": "ipython",
    "version": 3
   },
   "file_extension": ".py",
   "mimetype": "text/x-python",
   "name": "python",
   "nbconvert_exporter": "python",
   "pygments_lexer": "ipython3",
   "version": "3.13.5"
  }
 },
 "nbformat": 4,
 "nbformat_minor": 5
}
